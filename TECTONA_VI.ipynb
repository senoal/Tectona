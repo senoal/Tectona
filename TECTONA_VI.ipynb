{
 "cells": [
  {
   "cell_type": "code",
   "execution_count": 1,
   "id": "a5b25306-4c59-46c3-9a26-968e7d56f1a3",
   "metadata": {},
   "outputs": [],
   "source": [
    "import pandas as pd"
   ]
  },
  {
   "cell_type": "markdown",
   "id": "29e88b99-fb12-4d3a-a22c-8d0f96266cca",
   "metadata": {},
   "source": [
    "# Pendapatan Daerah Bidang & Sektor Pariwisata"
   ]
  },
  {
   "cell_type": "code",
   "execution_count": 2,
   "id": "3aa9db1f-8169-4a15-8d1a-eaa499d9ca8d",
   "metadata": {},
   "outputs": [
    {
     "data": {
      "text/html": [
       "<div>\n",
       "<style scoped>\n",
       "    .dataframe tbody tr th:only-of-type {\n",
       "        vertical-align: middle;\n",
       "    }\n",
       "\n",
       "    .dataframe tbody tr th {\n",
       "        vertical-align: top;\n",
       "    }\n",
       "\n",
       "    .dataframe thead th {\n",
       "        text-align: right;\n",
       "    }\n",
       "</style>\n",
       "<table border=\"1\" class=\"dataframe\">\n",
       "  <thead>\n",
       "    <tr style=\"text-align: right;\">\n",
       "      <th></th>\n",
       "      <th>id</th>\n",
       "      <th>kode_provinsi</th>\n",
       "      <th>nama_provinsi</th>\n",
       "      <th>kode_kabupaten_kota</th>\n",
       "      <th>nama_kabupaten_kota</th>\n",
       "      <th>sektor_wisata</th>\n",
       "      <th>jumlah_pendapatan</th>\n",
       "      <th>satuan</th>\n",
       "      <th>tahun</th>\n",
       "    </tr>\n",
       "  </thead>\n",
       "  <tbody>\n",
       "    <tr>\n",
       "      <th>0</th>\n",
       "      <td>1</td>\n",
       "      <td>32</td>\n",
       "      <td>JAWA BARAT</td>\n",
       "      <td>3201</td>\n",
       "      <td>KABUPATEN BOGOR</td>\n",
       "      <td>HOTEL</td>\n",
       "      <td>0</td>\n",
       "      <td>RUPIAH</td>\n",
       "      <td>2014</td>\n",
       "    </tr>\n",
       "    <tr>\n",
       "      <th>1</th>\n",
       "      <td>2</td>\n",
       "      <td>32</td>\n",
       "      <td>JAWA BARAT</td>\n",
       "      <td>3201</td>\n",
       "      <td>KABUPATEN BOGOR</td>\n",
       "      <td>RESTORAN/RUMAH MAKAN</td>\n",
       "      <td>27946638075</td>\n",
       "      <td>RUPIAH</td>\n",
       "      <td>2014</td>\n",
       "    </tr>\n",
       "    <tr>\n",
       "      <th>2</th>\n",
       "      <td>3</td>\n",
       "      <td>32</td>\n",
       "      <td>JAWA BARAT</td>\n",
       "      <td>3201</td>\n",
       "      <td>KABUPATEN BOGOR</td>\n",
       "      <td>HIBURAN</td>\n",
       "      <td>7077430815</td>\n",
       "      <td>RUPIAH</td>\n",
       "      <td>2014</td>\n",
       "    </tr>\n",
       "    <tr>\n",
       "      <th>3</th>\n",
       "      <td>4</td>\n",
       "      <td>32</td>\n",
       "      <td>JAWA BARAT</td>\n",
       "      <td>3201</td>\n",
       "      <td>KABUPATEN BOGOR</td>\n",
       "      <td>RETRIBUSI</td>\n",
       "      <td>485255100</td>\n",
       "      <td>RUPIAH</td>\n",
       "      <td>2014</td>\n",
       "    </tr>\n",
       "    <tr>\n",
       "      <th>4</th>\n",
       "      <td>5</td>\n",
       "      <td>32</td>\n",
       "      <td>JAWA BARAT</td>\n",
       "      <td>3202</td>\n",
       "      <td>KABUPATEN SUKABUMI</td>\n",
       "      <td>HOTEL</td>\n",
       "      <td>0</td>\n",
       "      <td>RUPIAH</td>\n",
       "      <td>2014</td>\n",
       "    </tr>\n",
       "  </tbody>\n",
       "</table>\n",
       "</div>"
      ],
      "text/plain": [
       "   id  kode_provinsi nama_provinsi  kode_kabupaten_kota nama_kabupaten_kota  \\\n",
       "0   1             32    JAWA BARAT                 3201     KABUPATEN BOGOR   \n",
       "1   2             32    JAWA BARAT                 3201     KABUPATEN BOGOR   \n",
       "2   3             32    JAWA BARAT                 3201     KABUPATEN BOGOR   \n",
       "3   4             32    JAWA BARAT                 3201     KABUPATEN BOGOR   \n",
       "4   5             32    JAWA BARAT                 3202  KABUPATEN SUKABUMI   \n",
       "\n",
       "          sektor_wisata  jumlah_pendapatan  satuan  tahun  \n",
       "0                 HOTEL                  0  RUPIAH   2014  \n",
       "1  RESTORAN/RUMAH MAKAN        27946638075  RUPIAH   2014  \n",
       "2               HIBURAN         7077430815  RUPIAH   2014  \n",
       "3             RETRIBUSI          485255100  RUPIAH   2014  \n",
       "4                 HOTEL                  0  RUPIAH   2014  "
      ]
     },
     "execution_count": 2,
     "metadata": {},
     "output_type": "execute_result"
    }
   ],
   "source": [
    "data_pdpt = pd.read_csv('jml_pendapatan_asli_drh_bidang_pariwisata__sektor_wisa_data.csv')\n",
    "data_pdpt.head()"
   ]
  },
  {
   "cell_type": "code",
   "execution_count": 3,
   "id": "f45ff0cf-46b4-4bef-af88-fedda320e716",
   "metadata": {},
   "outputs": [
    {
     "data": {
      "text/plain": [
       "8675852514304"
      ]
     },
     "execution_count": 3,
     "metadata": {},
     "output_type": "execute_result"
    }
   ],
   "source": [
    "sum(data_pdpt['jumlah_pendapatan'])"
   ]
  },
  {
   "cell_type": "code",
   "execution_count": 14,
   "id": "133af9f2-dd2d-4e6f-a6ac-1ccc720bfb1f",
   "metadata": {},
   "outputs": [
    {
     "name": "stdout",
     "output_type": "stream",
     "text": [
      "<class 'pandas.core.frame.DataFrame'>\n",
      "RangeIndex: 752 entries, 0 to 751\n",
      "Data columns (total 9 columns):\n",
      " #   Column               Non-Null Count  Dtype \n",
      "---  ------               --------------  ----- \n",
      " 0   id                   752 non-null    int64 \n",
      " 1   kode_provinsi        752 non-null    int64 \n",
      " 2   nama_provinsi        752 non-null    object\n",
      " 3   kode_kabupaten_kota  752 non-null    int64 \n",
      " 4   nama_kabupaten_kota  752 non-null    object\n",
      " 5   sektor_wisata        752 non-null    object\n",
      " 6   jumlah_pendapatan    752 non-null    int64 \n",
      " 7   satuan               752 non-null    object\n",
      " 8   tahun                752 non-null    int64 \n",
      "dtypes: int64(5), object(4)\n",
      "memory usage: 53.0+ KB\n"
     ]
    }
   ],
   "source": [
    "data_pdpt.info()"
   ]
  },
  {
   "cell_type": "code",
   "execution_count": 36,
   "id": "2808fdc3-d42e-4dfa-8266-f9a0254a9e81",
   "metadata": {},
   "outputs": [
    {
     "data": {
      "text/html": [
       "<div>\n",
       "<style scoped>\n",
       "    .dataframe tbody tr th:only-of-type {\n",
       "        vertical-align: middle;\n",
       "    }\n",
       "\n",
       "    .dataframe tbody tr th {\n",
       "        vertical-align: top;\n",
       "    }\n",
       "\n",
       "    .dataframe thead th {\n",
       "        text-align: right;\n",
       "    }\n",
       "</style>\n",
       "<table border=\"1\" class=\"dataframe\">\n",
       "  <thead>\n",
       "    <tr style=\"text-align: right;\">\n",
       "      <th></th>\n",
       "      <th>0</th>\n",
       "    </tr>\n",
       "  </thead>\n",
       "  <tbody>\n",
       "    <tr>\n",
       "      <th>0</th>\n",
       "      <td>KABUPATEN BOGOR</td>\n",
       "    </tr>\n",
       "    <tr>\n",
       "      <th>1</th>\n",
       "      <td>KABUPATEN SUKABUMI</td>\n",
       "    </tr>\n",
       "    <tr>\n",
       "      <th>2</th>\n",
       "      <td>KABUPATEN CIANJUR</td>\n",
       "    </tr>\n",
       "    <tr>\n",
       "      <th>3</th>\n",
       "      <td>KABUPATEN BANDUNG</td>\n",
       "    </tr>\n",
       "    <tr>\n",
       "      <th>4</th>\n",
       "      <td>KABUPATEN GARUT</td>\n",
       "    </tr>\n",
       "  </tbody>\n",
       "</table>\n",
       "</div>"
      ],
      "text/plain": [
       "                    0\n",
       "0     KABUPATEN BOGOR\n",
       "1  KABUPATEN SUKABUMI\n",
       "2   KABUPATEN CIANJUR\n",
       "3   KABUPATEN BANDUNG\n",
       "4     KABUPATEN GARUT"
      ]
     },
     "execution_count": 36,
     "metadata": {},
     "output_type": "execute_result"
    }
   ],
   "source": [
    "sub_daerah = pd.DataFrame(data_pdpt['nama_kabupaten_kota'].unique())\n",
    "sub_daerah.head()"
   ]
  },
  {
   "cell_type": "code",
   "execution_count": 35,
   "id": "30721b7e-808a-4188-87ff-7579eec344ef",
   "metadata": {},
   "outputs": [
    {
     "name": "stdout",
     "output_type": "stream",
     "text": [
      "<class 'pandas.core.frame.DataFrame'>\n",
      "RangeIndex: 27 entries, 0 to 26\n",
      "Data columns (total 1 columns):\n",
      " #   Column  Non-Null Count  Dtype \n",
      "---  ------  --------------  ----- \n",
      " 0   0       27 non-null     object\n",
      "dtypes: object(1)\n",
      "memory usage: 344.0+ bytes\n"
     ]
    }
   ],
   "source": [
    "sub_daerah = pd.DataFrame(data_pdpt['nama_kabupaten_kota'].unique())\n",
    "sub_daerah.info()"
   ]
  },
  {
   "cell_type": "markdown",
   "id": "38a515d0-39a5-43a4-8b7e-f74bcd425472",
   "metadata": {
    "tags": []
   },
   "source": [
    "# Pengunjung Objek Wisata"
   ]
  },
  {
   "cell_type": "code",
   "execution_count": 4,
   "id": "5de9aabe-587c-4225-9a97-67368146160e",
   "metadata": {},
   "outputs": [
    {
     "data": {
      "text/html": [
       "<div>\n",
       "<style scoped>\n",
       "    .dataframe tbody tr th:only-of-type {\n",
       "        vertical-align: middle;\n",
       "    }\n",
       "\n",
       "    .dataframe tbody tr th {\n",
       "        vertical-align: top;\n",
       "    }\n",
       "\n",
       "    .dataframe thead th {\n",
       "        text-align: right;\n",
       "    }\n",
       "</style>\n",
       "<table border=\"1\" class=\"dataframe\">\n",
       "  <thead>\n",
       "    <tr style=\"text-align: right;\">\n",
       "      <th></th>\n",
       "      <th>id</th>\n",
       "      <th>kode_provinsi</th>\n",
       "      <th>nama_provinsi</th>\n",
       "      <th>kode_kabupaten_kota</th>\n",
       "      <th>nama_kabupaten_kota</th>\n",
       "      <th>jenis_wisatawan</th>\n",
       "      <th>jumlah_pengunjung</th>\n",
       "      <th>satuan</th>\n",
       "      <th>tahun</th>\n",
       "    </tr>\n",
       "  </thead>\n",
       "  <tbody>\n",
       "    <tr>\n",
       "      <th>0</th>\n",
       "      <td>1</td>\n",
       "      <td>32</td>\n",
       "      <td>JAWA BARAT</td>\n",
       "      <td>3201</td>\n",
       "      <td>KABUPATEN BOGOR</td>\n",
       "      <td>MANCANEGARA</td>\n",
       "      <td>54927</td>\n",
       "      <td>ORANG</td>\n",
       "      <td>2014</td>\n",
       "    </tr>\n",
       "    <tr>\n",
       "      <th>1</th>\n",
       "      <td>2</td>\n",
       "      <td>32</td>\n",
       "      <td>JAWA BARAT</td>\n",
       "      <td>3201</td>\n",
       "      <td>KABUPATEN BOGOR</td>\n",
       "      <td>NUSANTARA</td>\n",
       "      <td>4075198</td>\n",
       "      <td>ORANG</td>\n",
       "      <td>2014</td>\n",
       "    </tr>\n",
       "    <tr>\n",
       "      <th>2</th>\n",
       "      <td>3</td>\n",
       "      <td>32</td>\n",
       "      <td>JAWA BARAT</td>\n",
       "      <td>3202</td>\n",
       "      <td>KABUPATEN SUKABUMI</td>\n",
       "      <td>MANCANEGARA</td>\n",
       "      <td>49985</td>\n",
       "      <td>ORANG</td>\n",
       "      <td>2014</td>\n",
       "    </tr>\n",
       "    <tr>\n",
       "      <th>3</th>\n",
       "      <td>4</td>\n",
       "      <td>32</td>\n",
       "      <td>JAWA BARAT</td>\n",
       "      <td>3202</td>\n",
       "      <td>KABUPATEN SUKABUMI</td>\n",
       "      <td>NUSANTARA</td>\n",
       "      <td>2031979</td>\n",
       "      <td>ORANG</td>\n",
       "      <td>2014</td>\n",
       "    </tr>\n",
       "    <tr>\n",
       "      <th>4</th>\n",
       "      <td>5</td>\n",
       "      <td>32</td>\n",
       "      <td>JAWA BARAT</td>\n",
       "      <td>3203</td>\n",
       "      <td>KABUPATEN CIANJUR</td>\n",
       "      <td>MANCANEGARA</td>\n",
       "      <td>7824</td>\n",
       "      <td>ORANG</td>\n",
       "      <td>2014</td>\n",
       "    </tr>\n",
       "  </tbody>\n",
       "</table>\n",
       "</div>"
      ],
      "text/plain": [
       "   id  kode_provinsi nama_provinsi  kode_kabupaten_kota nama_kabupaten_kota  \\\n",
       "0   1             32    JAWA BARAT                 3201     KABUPATEN BOGOR   \n",
       "1   2             32    JAWA BARAT                 3201     KABUPATEN BOGOR   \n",
       "2   3             32    JAWA BARAT                 3202  KABUPATEN SUKABUMI   \n",
       "3   4             32    JAWA BARAT                 3202  KABUPATEN SUKABUMI   \n",
       "4   5             32    JAWA BARAT                 3203   KABUPATEN CIANJUR   \n",
       "\n",
       "  jenis_wisatawan  jumlah_pengunjung satuan  tahun  \n",
       "0     MANCANEGARA              54927  ORANG   2014  \n",
       "1       NUSANTARA            4075198  ORANG   2014  \n",
       "2     MANCANEGARA              49985  ORANG   2014  \n",
       "3       NUSANTARA            2031979  ORANG   2014  \n",
       "4     MANCANEGARA               7824  ORANG   2014  "
      ]
     },
     "execution_count": 4,
     "metadata": {},
     "output_type": "execute_result"
    }
   ],
   "source": [
    "data_obj = pd.read_csv('jml_pengunjung_ke_objek_wisata__jenis_wisatawan_data.csv')\n",
    "data_obj.head()"
   ]
  },
  {
   "cell_type": "code",
   "execution_count": 21,
   "id": "de9534cb-f6b7-42e9-8827-9d5b4714ee8c",
   "metadata": {},
   "outputs": [
    {
     "name": "stdout",
     "output_type": "stream",
     "text": [
      "<class 'pandas.core.frame.DataFrame'>\n",
      "RangeIndex: 349 entries, 0 to 348\n",
      "Data columns (total 9 columns):\n",
      " #   Column               Non-Null Count  Dtype \n",
      "---  ------               --------------  ----- \n",
      " 0   id                   349 non-null    int64 \n",
      " 1   kode_provinsi        349 non-null    int64 \n",
      " 2   nama_provinsi        349 non-null    object\n",
      " 3   kode_kabupaten_kota  349 non-null    int64 \n",
      " 4   nama_kabupaten_kota  349 non-null    object\n",
      " 5   jenis_wisatawan      349 non-null    object\n",
      " 6   jumlah_pengunjung    349 non-null    int64 \n",
      " 7   satuan               349 non-null    object\n",
      " 8   tahun                349 non-null    int64 \n",
      "dtypes: int64(5), object(4)\n",
      "memory usage: 24.7+ KB\n"
     ]
    }
   ],
   "source": [
    "data_obj.info()"
   ]
  },
  {
   "cell_type": "code",
   "execution_count": 38,
   "id": "3f02881c-416d-40dd-9a2d-73e87b50ce9d",
   "metadata": {},
   "outputs": [
    {
     "name": "stdout",
     "output_type": "stream",
     "text": [
      "<class 'pandas.core.frame.DataFrame'>\n",
      "RangeIndex: 27 entries, 0 to 26\n",
      "Data columns (total 1 columns):\n",
      " #   Column  Non-Null Count  Dtype \n",
      "---  ------  --------------  ----- \n",
      " 0   0       27 non-null     object\n",
      "dtypes: object(1)\n",
      "memory usage: 344.0+ bytes\n"
     ]
    }
   ],
   "source": [
    "sub_daerah = pd.DataFrame(data_obj['nama_kabupaten_kota'].unique())\n",
    "sub_daerah.info()"
   ]
  },
  {
   "cell_type": "code",
   "execution_count": null,
   "id": "e44a9956-e098-4236-9cdc-f4bc99709a6a",
   "metadata": {},
   "outputs": [],
   "source": []
  },
  {
   "cell_type": "markdown",
   "id": "b3fd51bd-71f9-49b8-a4bc-700dd8931bfa",
   "metadata": {},
   "source": [
    "# Pengunjung Rekreasi"
   ]
  },
  {
   "cell_type": "code",
   "execution_count": 40,
   "id": "671847dd-e920-4a94-a561-744c45aa16a5",
   "metadata": {},
   "outputs": [
    {
     "data": {
      "text/html": [
       "<div>\n",
       "<style scoped>\n",
       "    .dataframe tbody tr th:only-of-type {\n",
       "        vertical-align: middle;\n",
       "    }\n",
       "\n",
       "    .dataframe tbody tr th {\n",
       "        vertical-align: top;\n",
       "    }\n",
       "\n",
       "    .dataframe thead th {\n",
       "        text-align: right;\n",
       "    }\n",
       "</style>\n",
       "<table border=\"1\" class=\"dataframe\">\n",
       "  <thead>\n",
       "    <tr style=\"text-align: right;\">\n",
       "      <th></th>\n",
       "      <th>id</th>\n",
       "      <th>kode_provinsi</th>\n",
       "      <th>nama_provinsi</th>\n",
       "      <th>kode_kabupaten_kota</th>\n",
       "      <th>nama_kabupaten_kota</th>\n",
       "      <th>jenis_wisatawan</th>\n",
       "      <th>jumlah_pengunjung</th>\n",
       "      <th>satuan</th>\n",
       "      <th>tahun</th>\n",
       "    </tr>\n",
       "  </thead>\n",
       "  <tbody>\n",
       "    <tr>\n",
       "      <th>0</th>\n",
       "      <td>1</td>\n",
       "      <td>32</td>\n",
       "      <td>JAWA BARAT</td>\n",
       "      <td>3201</td>\n",
       "      <td>KABUPATEN BOGOR</td>\n",
       "      <td>MANCANEGARA</td>\n",
       "      <td>0</td>\n",
       "      <td>ORANG</td>\n",
       "      <td>2014</td>\n",
       "    </tr>\n",
       "    <tr>\n",
       "      <th>1</th>\n",
       "      <td>2</td>\n",
       "      <td>32</td>\n",
       "      <td>JAWA BARAT</td>\n",
       "      <td>3201</td>\n",
       "      <td>KABUPATEN BOGOR</td>\n",
       "      <td>NUSANTARA</td>\n",
       "      <td>0</td>\n",
       "      <td>ORANG</td>\n",
       "      <td>2014</td>\n",
       "    </tr>\n",
       "    <tr>\n",
       "      <th>2</th>\n",
       "      <td>3</td>\n",
       "      <td>32</td>\n",
       "      <td>JAWA BARAT</td>\n",
       "      <td>3202</td>\n",
       "      <td>KABUPATEN SUKABUMI</td>\n",
       "      <td>MANCANEGARA</td>\n",
       "      <td>2849</td>\n",
       "      <td>ORANG</td>\n",
       "      <td>2014</td>\n",
       "    </tr>\n",
       "    <tr>\n",
       "      <th>3</th>\n",
       "      <td>4</td>\n",
       "      <td>32</td>\n",
       "      <td>JAWA BARAT</td>\n",
       "      <td>3202</td>\n",
       "      <td>KABUPATEN SUKABUMI</td>\n",
       "      <td>NUSANTARA</td>\n",
       "      <td>111947</td>\n",
       "      <td>ORANG</td>\n",
       "      <td>2014</td>\n",
       "    </tr>\n",
       "    <tr>\n",
       "      <th>4</th>\n",
       "      <td>5</td>\n",
       "      <td>32</td>\n",
       "      <td>JAWA BARAT</td>\n",
       "      <td>3203</td>\n",
       "      <td>KABUPATEN CIANJUR</td>\n",
       "      <td>MANCANEGARA</td>\n",
       "      <td>36518</td>\n",
       "      <td>ORANG</td>\n",
       "      <td>2014</td>\n",
       "    </tr>\n",
       "  </tbody>\n",
       "</table>\n",
       "</div>"
      ],
      "text/plain": [
       "   id  kode_provinsi nama_provinsi  kode_kabupaten_kota nama_kabupaten_kota  \\\n",
       "0   1             32    JAWA BARAT                 3201     KABUPATEN BOGOR   \n",
       "1   2             32    JAWA BARAT                 3201     KABUPATEN BOGOR   \n",
       "2   3             32    JAWA BARAT                 3202  KABUPATEN SUKABUMI   \n",
       "3   4             32    JAWA BARAT                 3202  KABUPATEN SUKABUMI   \n",
       "4   5             32    JAWA BARAT                 3203   KABUPATEN CIANJUR   \n",
       "\n",
       "  jenis_wisatawan  jumlah_pengunjung satuan  tahun  \n",
       "0     MANCANEGARA                  0  ORANG   2014  \n",
       "1       NUSANTARA                  0  ORANG   2014  \n",
       "2     MANCANEGARA               2849  ORANG   2014  \n",
       "3       NUSANTARA             111947  ORANG   2014  \n",
       "4     MANCANEGARA              36518  ORANG   2014  "
      ]
     },
     "execution_count": 40,
     "metadata": {},
     "output_type": "execute_result"
    }
   ],
   "source": [
    "data_rekreasi = pd.read_csv('jml_pengunjung_tempat_rekreasi__jenis_wisatawan_data.csv')\n",
    "data_rekreasi.head()"
   ]
  },
  {
   "cell_type": "code",
   "execution_count": 39,
   "id": "e8a60095-aa06-4480-ae2c-bbb067fbed08",
   "metadata": {},
   "outputs": [
    {
     "name": "stdout",
     "output_type": "stream",
     "text": [
      "<class 'pandas.core.frame.DataFrame'>\n",
      "RangeIndex: 32 entries, 0 to 31\n",
      "Data columns (total 1 columns):\n",
      " #   Column  Non-Null Count  Dtype \n",
      "---  ------  --------------  ----- \n",
      " 0   0       32 non-null     object\n",
      "dtypes: object(1)\n",
      "memory usage: 384.0+ bytes\n"
     ]
    }
   ],
   "source": [
    "sub_daerah = pd.DataFrame(data_rekreasi['nama_kabupaten_kota'].unique())\n",
    "sub_daerah.info()"
   ]
  },
  {
   "cell_type": "markdown",
   "id": "7d39965b-923b-4675-b917-21497ed388a2",
   "metadata": {},
   "source": [
    "# Pengunjung Museum"
   ]
  },
  {
   "cell_type": "code",
   "execution_count": 5,
   "id": "1730d629-5f95-4c7d-a8ca-5ae93e54b0d2",
   "metadata": {},
   "outputs": [
    {
     "data": {
      "text/html": [
       "<div>\n",
       "<style scoped>\n",
       "    .dataframe tbody tr th:only-of-type {\n",
       "        vertical-align: middle;\n",
       "    }\n",
       "\n",
       "    .dataframe tbody tr th {\n",
       "        vertical-align: top;\n",
       "    }\n",
       "\n",
       "    .dataframe thead th {\n",
       "        text-align: right;\n",
       "    }\n",
       "</style>\n",
       "<table border=\"1\" class=\"dataframe\">\n",
       "  <thead>\n",
       "    <tr style=\"text-align: right;\">\n",
       "      <th></th>\n",
       "      <th>id</th>\n",
       "      <th>kode_provinsi</th>\n",
       "      <th>nama_provinsi</th>\n",
       "      <th>kode_kabupaten_kota</th>\n",
       "      <th>nama_kabupaten_kota</th>\n",
       "      <th>jumlah_pengunjung</th>\n",
       "      <th>satuan</th>\n",
       "      <th>tahun</th>\n",
       "    </tr>\n",
       "  </thead>\n",
       "  <tbody>\n",
       "    <tr>\n",
       "      <th>183</th>\n",
       "      <td>184</td>\n",
       "      <td>32</td>\n",
       "      <td>JAWA BARAT</td>\n",
       "      <td>3275</td>\n",
       "      <td>KOTA BEKASI</td>\n",
       "      <td>400</td>\n",
       "      <td>ORANG</td>\n",
       "      <td>2020</td>\n",
       "    </tr>\n",
       "    <tr>\n",
       "      <th>184</th>\n",
       "      <td>185</td>\n",
       "      <td>32</td>\n",
       "      <td>JAWA BARAT</td>\n",
       "      <td>3276</td>\n",
       "      <td>KOTA DEPOK</td>\n",
       "      <td>0</td>\n",
       "      <td>ORANG</td>\n",
       "      <td>2020</td>\n",
       "    </tr>\n",
       "    <tr>\n",
       "      <th>185</th>\n",
       "      <td>186</td>\n",
       "      <td>32</td>\n",
       "      <td>JAWA BARAT</td>\n",
       "      <td>3277</td>\n",
       "      <td>KOTA CIMAHI</td>\n",
       "      <td>0</td>\n",
       "      <td>ORANG</td>\n",
       "      <td>2020</td>\n",
       "    </tr>\n",
       "    <tr>\n",
       "      <th>186</th>\n",
       "      <td>187</td>\n",
       "      <td>32</td>\n",
       "      <td>JAWA BARAT</td>\n",
       "      <td>3278</td>\n",
       "      <td>KOTA TASIKMALAYA</td>\n",
       "      <td>0</td>\n",
       "      <td>ORANG</td>\n",
       "      <td>2020</td>\n",
       "    </tr>\n",
       "    <tr>\n",
       "      <th>187</th>\n",
       "      <td>188</td>\n",
       "      <td>32</td>\n",
       "      <td>JAWA BARAT</td>\n",
       "      <td>3279</td>\n",
       "      <td>KOTA BANJAR</td>\n",
       "      <td>0</td>\n",
       "      <td>ORANG</td>\n",
       "      <td>2020</td>\n",
       "    </tr>\n",
       "  </tbody>\n",
       "</table>\n",
       "</div>"
      ],
      "text/plain": [
       "      id  kode_provinsi nama_provinsi  kode_kabupaten_kota  \\\n",
       "183  184             32    JAWA BARAT                 3275   \n",
       "184  185             32    JAWA BARAT                 3276   \n",
       "185  186             32    JAWA BARAT                 3277   \n",
       "186  187             32    JAWA BARAT                 3278   \n",
       "187  188             32    JAWA BARAT                 3279   \n",
       "\n",
       "    nama_kabupaten_kota  jumlah_pengunjung satuan  tahun  \n",
       "183         KOTA BEKASI                400  ORANG   2020  \n",
       "184          KOTA DEPOK                  0  ORANG   2020  \n",
       "185         KOTA CIMAHI                  0  ORANG   2020  \n",
       "186    KOTA TASIKMALAYA                  0  ORANG   2020  \n",
       "187         KOTA BANJAR                  0  ORANG   2020  "
      ]
     },
     "execution_count": 5,
     "metadata": {},
     "output_type": "execute_result"
    }
   ],
   "source": [
    "data_museum = pd.read_csv('jumlah_pengunjung_museum_berdasarkan_kabupatenkota_data.csv')\n",
    "data_museum.tail()"
   ]
  },
  {
   "cell_type": "code",
   "execution_count": 22,
   "id": "ec7313fc-c79d-4c0f-ade7-b30e24605148",
   "metadata": {},
   "outputs": [
    {
     "name": "stdout",
     "output_type": "stream",
     "text": [
      "<class 'pandas.core.frame.DataFrame'>\n",
      "RangeIndex: 188 entries, 0 to 187\n",
      "Data columns (total 8 columns):\n",
      " #   Column               Non-Null Count  Dtype \n",
      "---  ------               --------------  ----- \n",
      " 0   id                   188 non-null    int64 \n",
      " 1   kode_provinsi        188 non-null    int64 \n",
      " 2   nama_provinsi        188 non-null    object\n",
      " 3   kode_kabupaten_kota  188 non-null    int64 \n",
      " 4   nama_kabupaten_kota  188 non-null    object\n",
      " 5   jumlah_pengunjung    188 non-null    int64 \n",
      " 6   satuan               188 non-null    object\n",
      " 7   tahun                188 non-null    int64 \n",
      "dtypes: int64(5), object(3)\n",
      "memory usage: 11.9+ KB\n"
     ]
    }
   ],
   "source": [
    "data_museum.info()"
   ]
  },
  {
   "cell_type": "code",
   "execution_count": 41,
   "id": "9ddb88a4-0b61-447d-9c54-3e8c96dbe510",
   "metadata": {},
   "outputs": [
    {
     "name": "stdout",
     "output_type": "stream",
     "text": [
      "<class 'pandas.core.frame.DataFrame'>\n",
      "RangeIndex: 27 entries, 0 to 26\n",
      "Data columns (total 1 columns):\n",
      " #   Column  Non-Null Count  Dtype \n",
      "---  ------  --------------  ----- \n",
      " 0   0       27 non-null     object\n",
      "dtypes: object(1)\n",
      "memory usage: 344.0+ bytes\n"
     ]
    }
   ],
   "source": [
    "sub_daerah = pd.DataFrame(data_museum['nama_kabupaten_kota'].unique())\n",
    "sub_daerah.info()"
   ]
  },
  {
   "cell_type": "markdown",
   "id": "0dd880a9-8e12-4131-94c0-d5c2f4cb591a",
   "metadata": {},
   "source": [
    "# Kategori Wisatawan"
   ]
  },
  {
   "cell_type": "code",
   "execution_count": 19,
   "id": "40643ff4-8e62-4314-b7cd-b2c4e2716f3f",
   "metadata": {},
   "outputs": [
    {
     "data": {
      "text/html": [
       "<div>\n",
       "<style scoped>\n",
       "    .dataframe tbody tr th:only-of-type {\n",
       "        vertical-align: middle;\n",
       "    }\n",
       "\n",
       "    .dataframe tbody tr th {\n",
       "        vertical-align: top;\n",
       "    }\n",
       "\n",
       "    .dataframe thead th {\n",
       "        text-align: right;\n",
       "    }\n",
       "</style>\n",
       "<table border=\"1\" class=\"dataframe\">\n",
       "  <thead>\n",
       "    <tr style=\"text-align: right;\">\n",
       "      <th></th>\n",
       "      <th>id</th>\n",
       "      <th>kode_provinsi</th>\n",
       "      <th>nama_provinsi</th>\n",
       "      <th>kategori_wisatawan</th>\n",
       "      <th>jumlah_wisatawan</th>\n",
       "      <th>satuan</th>\n",
       "      <th>tahun</th>\n",
       "    </tr>\n",
       "  </thead>\n",
       "  <tbody>\n",
       "    <tr>\n",
       "      <th>0</th>\n",
       "      <td>1</td>\n",
       "      <td>32</td>\n",
       "      <td>JAWA BARAT</td>\n",
       "      <td>WISATAWAN DOMESTIK</td>\n",
       "      <td>58728666</td>\n",
       "      <td>ORANG</td>\n",
       "      <td>2016</td>\n",
       "    </tr>\n",
       "    <tr>\n",
       "      <th>1</th>\n",
       "      <td>2</td>\n",
       "      <td>32</td>\n",
       "      <td>JAWA BARAT</td>\n",
       "      <td>WISATAWAN MANCANEGARA</td>\n",
       "      <td>4428094</td>\n",
       "      <td>ORANG</td>\n",
       "      <td>2016</td>\n",
       "    </tr>\n",
       "    <tr>\n",
       "      <th>2</th>\n",
       "      <td>3</td>\n",
       "      <td>32</td>\n",
       "      <td>JAWA BARAT</td>\n",
       "      <td>WISATAWAN DOMESTIK</td>\n",
       "      <td>59644070</td>\n",
       "      <td>ORANG</td>\n",
       "      <td>2017</td>\n",
       "    </tr>\n",
       "    <tr>\n",
       "      <th>3</th>\n",
       "      <td>4</td>\n",
       "      <td>32</td>\n",
       "      <td>JAWA BARAT</td>\n",
       "      <td>WISATAWAN MANCANEGARA</td>\n",
       "      <td>4984035</td>\n",
       "      <td>ORANG</td>\n",
       "      <td>2017</td>\n",
       "    </tr>\n",
       "    <tr>\n",
       "      <th>4</th>\n",
       "      <td>5</td>\n",
       "      <td>32</td>\n",
       "      <td>JAWA BARAT</td>\n",
       "      <td>WISATAWAN DOMESTIK</td>\n",
       "      <td>63298608</td>\n",
       "      <td>ORANG</td>\n",
       "      <td>2018</td>\n",
       "    </tr>\n",
       "  </tbody>\n",
       "</table>\n",
       "</div>"
      ],
      "text/plain": [
       "   id  kode_provinsi nama_provinsi     kategori_wisatawan  jumlah_wisatawan  \\\n",
       "0   1             32    JAWA BARAT     WISATAWAN DOMESTIK          58728666   \n",
       "1   2             32    JAWA BARAT  WISATAWAN MANCANEGARA           4428094   \n",
       "2   3             32    JAWA BARAT     WISATAWAN DOMESTIK          59644070   \n",
       "3   4             32    JAWA BARAT  WISATAWAN MANCANEGARA           4984035   \n",
       "4   5             32    JAWA BARAT     WISATAWAN DOMESTIK          63298608   \n",
       "\n",
       "  satuan  tahun  \n",
       "0  ORANG   2016  \n",
       "1  ORANG   2016  \n",
       "2  ORANG   2017  \n",
       "3  ORANG   2017  \n",
       "4  ORANG   2018  "
      ]
     },
     "execution_count": 19,
     "metadata": {},
     "output_type": "execute_result"
    }
   ],
   "source": [
    "data_ktg = pd.read_csv('jumlah_wisatawan_berdasarkan_kategori_data.csv')\n",
    "data_ktg.head()"
   ]
  },
  {
   "cell_type": "code",
   "execution_count": 23,
   "id": "ad9ef7cd-0850-42a8-b3d5-711212eff098",
   "metadata": {},
   "outputs": [
    {
     "name": "stdout",
     "output_type": "stream",
     "text": [
      "<class 'pandas.core.frame.DataFrame'>\n",
      "RangeIndex: 10 entries, 0 to 9\n",
      "Data columns (total 7 columns):\n",
      " #   Column              Non-Null Count  Dtype \n",
      "---  ------              --------------  ----- \n",
      " 0   id                  10 non-null     int64 \n",
      " 1   kode_provinsi       10 non-null     int64 \n",
      " 2   nama_provinsi       10 non-null     object\n",
      " 3   kategori_wisatawan  10 non-null     object\n",
      " 4   jumlah_wisatawan    10 non-null     int64 \n",
      " 5   satuan              10 non-null     object\n",
      " 6   tahun               10 non-null     int64 \n",
      "dtypes: int64(4), object(3)\n",
      "memory usage: 688.0+ bytes\n"
     ]
    }
   ],
   "source": [
    "data_ktg.info()"
   ]
  },
  {
   "cell_type": "code",
   "execution_count": null,
   "id": "6dddb5c6-3241-486c-8ee7-f3ec8eba7712",
   "metadata": {},
   "outputs": [],
   "source": []
  },
  {
   "cell_type": "code",
   "execution_count": 1,
   "id": "998b88cb-19d8-4889-960a-08f70a1f47bd",
   "metadata": {},
   "outputs": [
    {
     "name": "stdout",
     "output_type": "stream",
     "text": [
      "Indonesia\n",
      "\n"
     ]
    }
   ],
   "source": [
    "import phonenumbers\n",
    "# from text import number\n",
    "from phonenumbers import geocoder\n",
    "\n",
    "number = \"+628281087889\"\n",
    "\n",
    "ch_number = phonenumbers.parse(number, \"CH\")\n",
    "print(geocoder.description_for_number(ch_number, \"en\"))\n",
    "from phonenumbers import carrier\n",
    "service_provider = phonenumbers.parse(number, \"RO\")\n",
    "print(carrier.name_for_number(service_provider, \"en\"))"
   ]
  },
  {
   "cell_type": "code",
   "execution_count": null,
   "id": "7b16afd7-6c20-41ed-a707-b1214c504f48",
   "metadata": {},
   "outputs": [],
   "source": []
  }
 ],
 "metadata": {
  "kernelspec": {
   "display_name": "Python 3 (ipykernel)",
   "language": "python",
   "name": "python3"
  },
  "language_info": {
   "codemirror_mode": {
    "name": "ipython",
    "version": 3
   },
   "file_extension": ".py",
   "mimetype": "text/x-python",
   "name": "python",
   "nbconvert_exporter": "python",
   "pygments_lexer": "ipython3",
   "version": "3.8.8"
  },
  "toc-autonumbering": true
 },
 "nbformat": 4,
 "nbformat_minor": 5
}
